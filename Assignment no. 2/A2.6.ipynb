{
 "cells": [
  {
   "cell_type": "code",
   "execution_count": 14,
   "id": "e47aa16f-ae2d-4588-ba5e-4fa864b43076",
   "metadata": {},
   "outputs": [
    {
     "name": "stdout",
     "output_type": "stream",
     "text": [
      "0\n",
      "1\n",
      "1\n",
      "2\n",
      "3\n",
      "5\n",
      "8\n",
      "13\n",
      "21\n",
      "34\n"
     ]
    }
   ],
   "source": [
    "#Write a python program to print the first 10 Fibonacci numbers using a while loop.\n",
    "def fib_series():\n",
    "    a,b = 0,1\n",
    "    count = 1\n",
    "    c=0 \n",
    "    while count <= 10 :\n",
    "        print(c)\n",
    "        a= b\n",
    "        b= c\n",
    "        c= a+b\n",
    "        count= count+ 1\n",
    "fib_series()        "
   ]
  },
  {
   "cell_type": "code",
   "execution_count": null,
   "id": "7c7c6e23-e7b3-485d-9377-e6eadb04eee1",
   "metadata": {},
   "outputs": [],
   "source": []
  }
 ],
 "metadata": {
  "kernelspec": {
   "display_name": "Python 3 (ipykernel)",
   "language": "python",
   "name": "python3"
  },
  "language_info": {
   "codemirror_mode": {
    "name": "ipython",
    "version": 3
   },
   "file_extension": ".py",
   "mimetype": "text/x-python",
   "name": "python",
   "nbconvert_exporter": "python",
   "pygments_lexer": "ipython3",
   "version": "3.10.8"
  }
 },
 "nbformat": 4,
 "nbformat_minor": 5
}

{
 "cells": [
  {
   "cell_type": "code",
   "execution_count": 4,
   "id": "3702bc39-917d-4397-ae1c-9790bb3438d5",
   "metadata": {},
   "outputs": [
    {
     "name": "stdout",
     "output_type": "stream",
     "text": [
      "25\n"
     ]
    }
   ],
   "source": [
    "#genrator function is a function which produces a number of values when iterator is over\n",
    "#yield keyword is used to create generator function. which retun some values.\n",
    "#example\n",
    "\n",
    "def fun(b):\n",
    "    a= b*b\n",
    "    yield a\n",
    "c= fun(5)\n",
    "for i in c:\n",
    "    print(i)"
   ]
  },
  {
   "cell_type": "code",
   "execution_count": null,
   "id": "7b0abdcf-954a-4b1e-a7b6-490783fb7c80",
   "metadata": {},
   "outputs": [],
   "source": []
  }
 ],
 "metadata": {
  "kernelspec": {
   "display_name": "Python 3 (ipykernel)",
   "language": "python",
   "name": "python3"
  },
  "language_info": {
   "codemirror_mode": {
    "name": "ipython",
    "version": 3
   },
   "file_extension": ".py",
   "mimetype": "text/x-python",
   "name": "python",
   "nbconvert_exporter": "python",
   "pygments_lexer": "ipython3",
   "version": "3.10.8"
  }
 },
 "nbformat": 4,
 "nbformat_minor": 5
}

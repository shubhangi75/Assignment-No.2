{
 "cells": [
  {
   "cell_type": "code",
   "execution_count": 9,
   "id": "8b044325-4ae9-46a8-aa4a-4dce5a00fda3",
   "metadata": {},
   "outputs": [
    {
     "name": "stdout",
     "output_type": "stream",
     "text": [
      "2\n",
      "4\n",
      "6\n",
      "8\n",
      "10\n"
     ]
    }
   ],
   "source": [
    "#iterator is an object that contains a countable values\n",
    "#iter() method is used for intialise iterator and next() method is used for iteration\n",
    "#Use these methods to print the first five elements of the given list [2, 4, 6, 8, 10, 12, 14,\n",
    "#16, 18, 20].\n",
    "l= [2, 4, 6, 8, 10, 12, 14,16, 18, 20]\n",
    "a= iter(l)\n",
    "print(next(a))\n",
    "print(next(a))\n",
    "print(next(a))\n",
    "print(next(a))\n",
    "print(next(a))\n",
    "\n"
   ]
  },
  {
   "cell_type": "code",
   "execution_count": null,
   "id": "1276855c-2efb-4b4b-b85f-85bedf037f8c",
   "metadata": {},
   "outputs": [],
   "source": []
  }
 ],
 "metadata": {
  "kernelspec": {
   "display_name": "Python 3 (ipykernel)",
   "language": "python",
   "name": "python3"
  },
  "language_info": {
   "codemirror_mode": {
    "name": "ipython",
    "version": 3
   },
   "file_extension": ".py",
   "mimetype": "text/x-python",
   "name": "python",
   "nbconvert_exporter": "python",
   "pygments_lexer": "ipython3",
   "version": "3.10.8"
  }
 },
 "nbformat": 4,
 "nbformat_minor": 5
}

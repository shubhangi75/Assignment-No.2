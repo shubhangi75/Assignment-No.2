{
 "cells": [
  {
   "cell_type": "code",
   "execution_count": 8,
   "id": "af60230e-41bc-41c6-bc24-f8c90fe33cd6",
   "metadata": {},
   "outputs": [
    {
     "name": "stdout",
     "output_type": "stream",
     "text": [
      "sqaure of a  (5,) is 25\n"
     ]
    }
   ],
   "source": [
    "# *args and **kwargs bot are the keywords usedto pass variable number of arguments to a function\n",
    "# *args is a non keyword arguments\n",
    "# **kwargs is a keyword argument\n",
    "def square_no (*args):\n",
    "    #no=0\n",
    "    for i in args: \n",
    "        no =i*i\n",
    "    print(\"sqaure of a \",args ,\"is\", no)\n",
    "square_no(5)    "
   ]
  },
  {
   "cell_type": "code",
   "execution_count": null,
   "id": "3212024c-c722-439d-bee4-c0a3aca7e75c",
   "metadata": {},
   "outputs": [],
   "source": []
  }
 ],
 "metadata": {
  "kernelspec": {
   "display_name": "Python 3 (ipykernel)",
   "language": "python",
   "name": "python3"
  },
  "language_info": {
   "codemirror_mode": {
    "name": "ipython",
    "version": 3
   },
   "file_extension": ".py",
   "mimetype": "text/x-python",
   "name": "python",
   "nbconvert_exporter": "python",
   "pygments_lexer": "ipython3",
   "version": "3.10.8"
  }
 },
 "nbformat": 4,
 "nbformat_minor": 5
}

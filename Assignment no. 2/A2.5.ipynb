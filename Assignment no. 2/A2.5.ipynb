{
 "cells": [
  {
   "cell_type": "code",
   "execution_count": null,
   "id": "349d5991-5209-41fd-96a6-8e97c161fcfd",
   "metadata": {},
   "outputs": [],
   "source": [
    "def is_prime(n):\n",
    "    for j in range(1,n+1):\n",
    "        c=0\n",
    "        for i in range(1, j+1):\n",
    "            if j%i ==0:\n",
    "                c= c+1\n",
    "            if c== 2:\n",
    "                print(j)    \n",
    "\n",
    "def prime_generator():\n",
    "    n = 1\n",
    "    while True:\n",
    "        n += 1\n",
    "        if is_prime(n):\n",
    "            yield n\n",
    "\n",
    "generator = prime_generator()\n",
    "for i in range (10):\n",
    "    print(next(generator))"
   ]
  },
  {
   "cell_type": "code",
   "execution_count": null,
   "id": "cd1f1578-e3e7-4079-bbc9-23a2eee0f1f7",
   "metadata": {},
   "outputs": [],
   "source": []
  },
  {
   "cell_type": "code",
   "execution_count": null,
   "id": "1330974c-710c-4e3d-8a3f-7722187213f6",
   "metadata": {},
   "outputs": [],
   "source": []
  }
 ],
 "metadata": {
  "kernelspec": {
   "display_name": "Python 3 (ipykernel)",
   "language": "python",
   "name": "python3"
  },
  "language_info": {
   "codemirror_mode": {
    "name": "ipython",
    "version": 3
   },
   "file_extension": ".py",
   "mimetype": "text/x-python",
   "name": "python",
   "nbconvert_exporter": "python",
   "pygments_lexer": "ipython3",
   "version": "3.10.8"
  }
 },
 "nbformat": 4,
 "nbformat_minor": 5
}
